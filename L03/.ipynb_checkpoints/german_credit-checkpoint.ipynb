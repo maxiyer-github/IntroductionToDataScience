{
 "cells": [
  {
   "cell_type": "markdown",
   "metadata": {},
   "source": [
    "**A simple data science study on [German Credit Data (StatLog)](http://archive.ics.uci.edu/ml/datasets/Statlog+(German+Credit+Data))** \n",
    "\n",
    "<ul>\n",
    "    <li>Don't panic if you are not familiar with the libraries. Slowly, I will introduce you to these.\n",
    "    <li>Play with every cell in this notebook and see what is happening. Don't play too much, until you can't fix it :-)\n",
    "    <li>Contact me, if you have any question. We can discuss in the lecture.\n",
    "</ul>"
   ]
  },
  {
   "cell_type": "code",
   "execution_count": 2,
   "metadata": {},
   "outputs": [],
   "source": [
    "#load essential header libraries\n",
    "import pandas as pd\n",
    "import numpy as np\n",
    "import matplotlib.pyplot as plt\n",
    "\n",
    "from sklearn.preprocessing import LabelEncoder\n",
    "from sklearn.tree import DecisionTreeClassifier, plot_tree\n",
    "from sklearn.model_selection import train_test_split\n",
    "from sklearn.metrics import accuracy_score, plot_confusion_matrix, classification_report"
   ]
  },
  {
   "cell_type": "markdown",
   "metadata": {},
   "source": [
    "**Data Science Project Stage: Data Collection and Management**"
   ]
  },
  {
   "cell_type": "code",
   "execution_count": 3,
   "metadata": {},
   "outputs": [],
   "source": [
    "#load the credit data\n",
    "data = pd.read_csv('german.data', delimiter=' ', header=None)"
   ]
  },
  {
   "cell_type": "code",
   "execution_count": 4,
   "metadata": {},
   "outputs": [
    {
     "data": {
      "text/html": [
       "<div>\n",
       "<style scoped>\n",
       "    .dataframe tbody tr th:only-of-type {\n",
       "        vertical-align: middle;\n",
       "    }\n",
       "\n",
       "    .dataframe tbody tr th {\n",
       "        vertical-align: top;\n",
       "    }\n",
       "\n",
       "    .dataframe thead th {\n",
       "        text-align: right;\n",
       "    }\n",
       "</style>\n",
       "<table border=\"1\" class=\"dataframe\">\n",
       "  <thead>\n",
       "    <tr style=\"text-align: right;\">\n",
       "      <th></th>\n",
       "      <th>0</th>\n",
       "      <th>1</th>\n",
       "      <th>2</th>\n",
       "      <th>3</th>\n",
       "      <th>4</th>\n",
       "      <th>5</th>\n",
       "      <th>6</th>\n",
       "      <th>7</th>\n",
       "      <th>8</th>\n",
       "      <th>9</th>\n",
       "      <th>...</th>\n",
       "      <th>11</th>\n",
       "      <th>12</th>\n",
       "      <th>13</th>\n",
       "      <th>14</th>\n",
       "      <th>15</th>\n",
       "      <th>16</th>\n",
       "      <th>17</th>\n",
       "      <th>18</th>\n",
       "      <th>19</th>\n",
       "      <th>20</th>\n",
       "    </tr>\n",
       "  </thead>\n",
       "  <tbody>\n",
       "    <tr>\n",
       "      <th>0</th>\n",
       "      <td>A11</td>\n",
       "      <td>6</td>\n",
       "      <td>A34</td>\n",
       "      <td>A43</td>\n",
       "      <td>1169</td>\n",
       "      <td>A65</td>\n",
       "      <td>A75</td>\n",
       "      <td>4</td>\n",
       "      <td>A93</td>\n",
       "      <td>A101</td>\n",
       "      <td>...</td>\n",
       "      <td>A121</td>\n",
       "      <td>67</td>\n",
       "      <td>A143</td>\n",
       "      <td>A152</td>\n",
       "      <td>2</td>\n",
       "      <td>A173</td>\n",
       "      <td>1</td>\n",
       "      <td>A192</td>\n",
       "      <td>A201</td>\n",
       "      <td>1</td>\n",
       "    </tr>\n",
       "    <tr>\n",
       "      <th>1</th>\n",
       "      <td>A12</td>\n",
       "      <td>48</td>\n",
       "      <td>A32</td>\n",
       "      <td>A43</td>\n",
       "      <td>5951</td>\n",
       "      <td>A61</td>\n",
       "      <td>A73</td>\n",
       "      <td>2</td>\n",
       "      <td>A92</td>\n",
       "      <td>A101</td>\n",
       "      <td>...</td>\n",
       "      <td>A121</td>\n",
       "      <td>22</td>\n",
       "      <td>A143</td>\n",
       "      <td>A152</td>\n",
       "      <td>1</td>\n",
       "      <td>A173</td>\n",
       "      <td>1</td>\n",
       "      <td>A191</td>\n",
       "      <td>A201</td>\n",
       "      <td>2</td>\n",
       "    </tr>\n",
       "    <tr>\n",
       "      <th>2</th>\n",
       "      <td>A14</td>\n",
       "      <td>12</td>\n",
       "      <td>A34</td>\n",
       "      <td>A46</td>\n",
       "      <td>2096</td>\n",
       "      <td>A61</td>\n",
       "      <td>A74</td>\n",
       "      <td>2</td>\n",
       "      <td>A93</td>\n",
       "      <td>A101</td>\n",
       "      <td>...</td>\n",
       "      <td>A121</td>\n",
       "      <td>49</td>\n",
       "      <td>A143</td>\n",
       "      <td>A152</td>\n",
       "      <td>1</td>\n",
       "      <td>A172</td>\n",
       "      <td>2</td>\n",
       "      <td>A191</td>\n",
       "      <td>A201</td>\n",
       "      <td>1</td>\n",
       "    </tr>\n",
       "    <tr>\n",
       "      <th>3</th>\n",
       "      <td>A11</td>\n",
       "      <td>42</td>\n",
       "      <td>A32</td>\n",
       "      <td>A42</td>\n",
       "      <td>7882</td>\n",
       "      <td>A61</td>\n",
       "      <td>A74</td>\n",
       "      <td>2</td>\n",
       "      <td>A93</td>\n",
       "      <td>A103</td>\n",
       "      <td>...</td>\n",
       "      <td>A122</td>\n",
       "      <td>45</td>\n",
       "      <td>A143</td>\n",
       "      <td>A153</td>\n",
       "      <td>1</td>\n",
       "      <td>A173</td>\n",
       "      <td>2</td>\n",
       "      <td>A191</td>\n",
       "      <td>A201</td>\n",
       "      <td>1</td>\n",
       "    </tr>\n",
       "    <tr>\n",
       "      <th>4</th>\n",
       "      <td>A11</td>\n",
       "      <td>24</td>\n",
       "      <td>A33</td>\n",
       "      <td>A40</td>\n",
       "      <td>4870</td>\n",
       "      <td>A61</td>\n",
       "      <td>A73</td>\n",
       "      <td>3</td>\n",
       "      <td>A93</td>\n",
       "      <td>A101</td>\n",
       "      <td>...</td>\n",
       "      <td>A124</td>\n",
       "      <td>53</td>\n",
       "      <td>A143</td>\n",
       "      <td>A153</td>\n",
       "      <td>2</td>\n",
       "      <td>A173</td>\n",
       "      <td>2</td>\n",
       "      <td>A191</td>\n",
       "      <td>A201</td>\n",
       "      <td>2</td>\n",
       "    </tr>\n",
       "  </tbody>\n",
       "</table>\n",
       "<p>5 rows × 21 columns</p>\n",
       "</div>"
      ],
      "text/plain": [
       "    0   1    2    3     4    5    6   7    8     9   ...    11  12    13  \\\n",
       "0  A11   6  A34  A43  1169  A65  A75   4  A93  A101  ...  A121  67  A143   \n",
       "1  A12  48  A32  A43  5951  A61  A73   2  A92  A101  ...  A121  22  A143   \n",
       "2  A14  12  A34  A46  2096  A61  A74   2  A93  A101  ...  A121  49  A143   \n",
       "3  A11  42  A32  A42  7882  A61  A74   2  A93  A103  ...  A122  45  A143   \n",
       "4  A11  24  A33  A40  4870  A61  A73   3  A93  A101  ...  A124  53  A143   \n",
       "\n",
       "     14 15    16 17    18    19 20  \n",
       "0  A152  2  A173  1  A192  A201  1  \n",
       "1  A152  1  A173  1  A191  A201  2  \n",
       "2  A152  1  A172  2  A191  A201  1  \n",
       "3  A153  1  A173  2  A191  A201  1  \n",
       "4  A153  2  A173  2  A191  A201  2  \n",
       "\n",
       "[5 rows x 21 columns]"
      ]
     },
     "execution_count": 4,
     "metadata": {},
     "output_type": "execute_result"
    }
   ],
   "source": [
    "#print the header\n",
    "data.head()"
   ]
  },
  {
   "cell_type": "markdown",
   "metadata": {},
   "source": [
    "*In the above, first 20 columns are features, last column is the class {1,2}; 1: good customer, 2: bad customer.*"
   ]
  },
  {
   "cell_type": "code",
   "execution_count": 5,
   "metadata": {},
   "outputs": [
    {
     "name": "stdout",
     "output_type": "stream",
     "text": [
      "Int64Index([0, 2, 3, 5, 6, 8, 9, 11, 13, 14, 16, 18, 19], dtype='int64')\n"
     ]
    },
    {
     "data": {
      "text/html": [
       "<div>\n",
       "<style scoped>\n",
       "    .dataframe tbody tr th:only-of-type {\n",
       "        vertical-align: middle;\n",
       "    }\n",
       "\n",
       "    .dataframe tbody tr th {\n",
       "        vertical-align: top;\n",
       "    }\n",
       "\n",
       "    .dataframe thead th {\n",
       "        text-align: right;\n",
       "    }\n",
       "</style>\n",
       "<table border=\"1\" class=\"dataframe\">\n",
       "  <thead>\n",
       "    <tr style=\"text-align: right;\">\n",
       "      <th></th>\n",
       "      <th>0</th>\n",
       "      <th>1</th>\n",
       "      <th>2</th>\n",
       "      <th>3</th>\n",
       "      <th>4</th>\n",
       "      <th>5</th>\n",
       "      <th>6</th>\n",
       "      <th>7</th>\n",
       "      <th>8</th>\n",
       "      <th>9</th>\n",
       "      <th>...</th>\n",
       "      <th>11</th>\n",
       "      <th>12</th>\n",
       "      <th>13</th>\n",
       "      <th>14</th>\n",
       "      <th>15</th>\n",
       "      <th>16</th>\n",
       "      <th>17</th>\n",
       "      <th>18</th>\n",
       "      <th>19</th>\n",
       "      <th>20</th>\n",
       "    </tr>\n",
       "  </thead>\n",
       "  <tbody>\n",
       "    <tr>\n",
       "      <th>0</th>\n",
       "      <td>0</td>\n",
       "      <td>6</td>\n",
       "      <td>4</td>\n",
       "      <td>4</td>\n",
       "      <td>1169</td>\n",
       "      <td>4</td>\n",
       "      <td>4</td>\n",
       "      <td>4</td>\n",
       "      <td>2</td>\n",
       "      <td>0</td>\n",
       "      <td>...</td>\n",
       "      <td>0</td>\n",
       "      <td>67</td>\n",
       "      <td>2</td>\n",
       "      <td>1</td>\n",
       "      <td>2</td>\n",
       "      <td>2</td>\n",
       "      <td>1</td>\n",
       "      <td>1</td>\n",
       "      <td>0</td>\n",
       "      <td>1</td>\n",
       "    </tr>\n",
       "    <tr>\n",
       "      <th>1</th>\n",
       "      <td>1</td>\n",
       "      <td>48</td>\n",
       "      <td>2</td>\n",
       "      <td>4</td>\n",
       "      <td>5951</td>\n",
       "      <td>0</td>\n",
       "      <td>2</td>\n",
       "      <td>2</td>\n",
       "      <td>1</td>\n",
       "      <td>0</td>\n",
       "      <td>...</td>\n",
       "      <td>0</td>\n",
       "      <td>22</td>\n",
       "      <td>2</td>\n",
       "      <td>1</td>\n",
       "      <td>1</td>\n",
       "      <td>2</td>\n",
       "      <td>1</td>\n",
       "      <td>0</td>\n",
       "      <td>0</td>\n",
       "      <td>2</td>\n",
       "    </tr>\n",
       "    <tr>\n",
       "      <th>2</th>\n",
       "      <td>3</td>\n",
       "      <td>12</td>\n",
       "      <td>4</td>\n",
       "      <td>7</td>\n",
       "      <td>2096</td>\n",
       "      <td>0</td>\n",
       "      <td>3</td>\n",
       "      <td>2</td>\n",
       "      <td>2</td>\n",
       "      <td>0</td>\n",
       "      <td>...</td>\n",
       "      <td>0</td>\n",
       "      <td>49</td>\n",
       "      <td>2</td>\n",
       "      <td>1</td>\n",
       "      <td>1</td>\n",
       "      <td>1</td>\n",
       "      <td>2</td>\n",
       "      <td>0</td>\n",
       "      <td>0</td>\n",
       "      <td>1</td>\n",
       "    </tr>\n",
       "    <tr>\n",
       "      <th>3</th>\n",
       "      <td>0</td>\n",
       "      <td>42</td>\n",
       "      <td>2</td>\n",
       "      <td>3</td>\n",
       "      <td>7882</td>\n",
       "      <td>0</td>\n",
       "      <td>3</td>\n",
       "      <td>2</td>\n",
       "      <td>2</td>\n",
       "      <td>2</td>\n",
       "      <td>...</td>\n",
       "      <td>1</td>\n",
       "      <td>45</td>\n",
       "      <td>2</td>\n",
       "      <td>2</td>\n",
       "      <td>1</td>\n",
       "      <td>2</td>\n",
       "      <td>2</td>\n",
       "      <td>0</td>\n",
       "      <td>0</td>\n",
       "      <td>1</td>\n",
       "    </tr>\n",
       "    <tr>\n",
       "      <th>4</th>\n",
       "      <td>0</td>\n",
       "      <td>24</td>\n",
       "      <td>3</td>\n",
       "      <td>0</td>\n",
       "      <td>4870</td>\n",
       "      <td>0</td>\n",
       "      <td>2</td>\n",
       "      <td>3</td>\n",
       "      <td>2</td>\n",
       "      <td>0</td>\n",
       "      <td>...</td>\n",
       "      <td>3</td>\n",
       "      <td>53</td>\n",
       "      <td>2</td>\n",
       "      <td>2</td>\n",
       "      <td>2</td>\n",
       "      <td>2</td>\n",
       "      <td>2</td>\n",
       "      <td>0</td>\n",
       "      <td>0</td>\n",
       "      <td>2</td>\n",
       "    </tr>\n",
       "  </tbody>\n",
       "</table>\n",
       "<p>5 rows × 21 columns</p>\n",
       "</div>"
      ],
      "text/plain": [
       "   0   1   2   3     4   5   6   7   8   9   ...  11  12  13  14  15  16  17  \\\n",
       "0   0   6   4   4  1169   4   4   4   2   0  ...   0  67   2   1   2   2   1   \n",
       "1   1  48   2   4  5951   0   2   2   1   0  ...   0  22   2   1   1   2   1   \n",
       "2   3  12   4   7  2096   0   3   2   2   0  ...   0  49   2   1   1   1   2   \n",
       "3   0  42   2   3  7882   0   3   2   2   2  ...   1  45   2   2   1   2   2   \n",
       "4   0  24   3   0  4870   0   2   3   2   0  ...   3  53   2   2   2   2   2   \n",
       "\n",
       "   18  19  20  \n",
       "0   1   0   1  \n",
       "1   0   0   2  \n",
       "2   0   0   1  \n",
       "3   0   0   1  \n",
       "4   0   0   2  \n",
       "\n",
       "[5 rows x 21 columns]"
      ]
     },
     "execution_count": 5,
     "metadata": {},
     "output_type": "execute_result"
    }
   ],
   "source": [
    "#encode the categorical features as numeric features\n",
    "categorical_cols = data.select_dtypes(include=['object', 'bool']).columns\n",
    "print(categorical_cols)\n",
    "LabelEnc = LabelEncoder()\n",
    "\n",
    "for i in range(len(categorical_cols)):\n",
    "    data[categorical_cols[i]] = LabelEnc.fit_transform(data[categorical_cols[i]])\n",
    "\n",
    "data.head()"
   ]
  },
  {
   "cell_type": "code",
   "execution_count": 6,
   "metadata": {},
   "outputs": [
    {
     "name": "stdout",
     "output_type": "stream",
     "text": [
      "# of input attributes\t\t\t:\t 20\n",
      "# of customer records in the dataset\t:\t 1000\n",
      "# of classes in the dataset\t\t:\t 2\n",
      "# of class 1(good) customers\t\t:\t 700\n",
      "# of class 2(bad) customers\t\t:\t 300\n"
     ]
    }
   ],
   "source": [
    "class_col = data.columns[-1] #-1: refers to the last column data.columns[20]\n",
    "\n",
    "#print some relevant information about this data\n",
    "print('# of input attributes\\t\\t\\t:\\t', data.shape[1]-1)\n",
    "\n",
    "#print number of instances\n",
    "print('# of customer records in the dataset\\t:\\t', data.shape[0])\n",
    "\n",
    "#number of classes of customers\n",
    "print('# of classes in the dataset\\t\\t:\\t', data[data.columns[-1]].nunique())\n",
    "\n",
    "#number of customers in each class\n",
    "print('# of class 1(good) customers\\t\\t:\\t', len(data[data[class_col]==1]))\n",
    "print('# of class 2(bad) customers\\t\\t:\\t', len(data[data[class_col]==2]))"
   ]
  },
  {
   "cell_type": "code",
   "execution_count": 7,
   "metadata": {},
   "outputs": [
    {
     "name": "stdout",
     "output_type": "stream",
     "text": [
      "shape of X: (1000, 20)\n",
      "shape of y: (1000,)\n"
     ]
    }
   ],
   "source": [
    "#extract input and class(target) from the dataset\n",
    "X = data.drop(class_col, axis=1) #axis=1 means the column axis\n",
    "y = data[class_col]\n",
    "y = LabelEnc.fit_transform(y) #convert 1, 2 to 0 and 1\n",
    "\n",
    "#check the shape of X and y\n",
    "print('shape of X:', X.shape)\n",
    "print('shape of y:', y.shape)"
   ]
  },
  {
   "cell_type": "markdown",
   "metadata": {},
   "source": [
    "**Let's say goal is to build a classification model. However, there is a problem. If we build a model with the entire dataset of 1000 records, there is no way of knowing how the model will perform when deployed. For this performance check, we will separate out a subset of (say) 30% of these data, and we will treat this data as a proxy for the real-world data (called test set). This is used to check the generalisation performance of a machine learning model.**"
   ]
  },
  {
   "cell_type": "code",
   "execution_count": 8,
   "metadata": {},
   "outputs": [],
   "source": [
    "#create the training and test set (Note that, I am not creating any development/validation set here to keep things simple)\n",
    "X_train, X_test, y_train, y_test = train_test_split(X, y, \n",
    "                                                    test_size=0.30,\n",
    "                                                    random_state=42, \n",
    "                                                    stratify=y)"
   ]
  },
  {
   "cell_type": "code",
   "execution_count": 9,
   "metadata": {},
   "outputs": [
    {
     "name": "stdout",
     "output_type": "stream",
     "text": [
      "shape of X_train\t:\t (700, 20)\n",
      "shape of y_train\t:\t (700,)\n",
      "\tclass1 count\t:\t 490\n",
      "\tclass2 count\t:\t 210\n",
      "\n",
      "shape of X_test\t\t:\t (300, 20)\n",
      "shape of y_test\t\t:\t (300,)\n",
      "\tclass1 count\t:\t 210\n",
      "\tclass2 count\t:\t 90\n"
     ]
    }
   ],
   "source": [
    "#now print the shape of the train and test set\n",
    "print('shape of X_train\\t:\\t', X_train.shape)\n",
    "print('shape of y_train\\t:\\t', y_train.shape)\n",
    "print('\\tclass1 count\\t:\\t', len(y_train[y_train==0]))\n",
    "print('\\tclass2 count\\t:\\t', len(y_train[y_train==1]))\n",
    "print()\n",
    "\n",
    "print('shape of X_test\\t\\t:\\t', X_test.shape)\n",
    "print('shape of y_test\\t\\t:\\t', y_test.shape)\n",
    "print('\\tclass1 count\\t:\\t', len(y_test[y_test==0]))\n",
    "print('\\tclass2 count\\t:\\t', len(y_test[y_test==1]))"
   ]
  },
  {
   "cell_type": "code",
   "execution_count": 10,
   "metadata": {},
   "outputs": [
    {
     "data": {
      "image/png": "[encoded data removed]",
      "text/plain": [
       "<Figure size 432x288 with 1 Axes>"
      ]
     },
     "metadata": {
      "needs_background": "light"
     },
     "output_type": "display_data"
    }
   ],
   "source": [
    "#let's plot the histogram of class distribution for these two sets\n",
    "unique, counts = np.unique(y_train, return_counts=True)\n",
    "plt.bar(unique, counts)\n",
    "unique, counts = np.unique(y_test, return_counts=True)\n",
    "plt.bar(unique, counts)\n",
    "plt.title('Class Distribution in the Dataset (Blue: Tr, Orange: Te)')\n",
    "plt.xlabel('Class')\n",
    "plt.ylabel('Count')\n",
    "locs, labels = plt.xticks()\n",
    "plt.xticks(np.arange(0, 2, step=1), ['Good', 'Bad'])\n",
    "plt.show()"
   ]
  },
  {
   "cell_type": "markdown",
   "metadata": {},
   "source": [
    "<hr/>\n",
    "\n",
    "**Data Science Project Stage: Modeling**"
   ]
  },
  {
   "cell_type": "code",
   "execution_count": 11,
   "metadata": {},
   "outputs": [],
   "source": [
    "#initialise model for a decision tree\n",
    "dtree = DecisionTreeClassifier(random_state=0, max_depth=3)\n",
    "\n",
    "#from sklearn.svm import LinearSVC\n",
    "#svm = LinearSVC(random_state=50, max_iter=10000)"
   ]
  },
  {
   "cell_type": "code",
   "execution_count": 12,
   "metadata": {},
   "outputs": [
    {
     "name": "stdout",
     "output_type": "stream",
     "text": [
      "Time taken to train the model\t:\t 0.022395849227905273 second.\n"
     ]
    }
   ],
   "source": [
    "#train the decision tree model\n",
    "import time\n",
    "\n",
    "tic = time.time()\n",
    "dtree.fit(X_train, y_train)\n",
    "#svm.fit(X_train, y_train)\n",
    "toc = time.time()\n",
    "\n",
    "print('Time taken to train the model\\t:\\t', (toc-tic),'second.')"
   ]
  },
  {
   "cell_type": "code",
   "execution_count": 13,
   "metadata": {},
   "outputs": [
    {
     "data": {
      "text/plain": [
       "[Text(170.9,196.385,'X[0] <= 1.5\\ngini = 0.42\\nsamples = 700\\nvalue = [490, 210]'),\n",
       " Text(85.45,140.275,'X[5] <= 1.5\\ngini = 0.492\\nsamples = 380\\nvalue = [214, 166]'),\n",
       " Text(42.725,84.165,'X[1] <= 22.5\\ngini = 0.5\\nsamples = 305\\nvalue = [157, 148]'),\n",
       " Text(21.3625,28.055,'gini = 0.471\\nsamples = 174\\nvalue = [108, 66]'),\n",
       " Text(64.0875,28.055,'gini = 0.468\\nsamples = 131\\nvalue = [49, 82]'),\n",
       " Text(128.175,84.165,'X[4] <= 2002.5\\ngini = 0.365\\nsamples = 75\\nvalue = [57, 18]'),\n",
       " Text(106.812,28.055,'gini = 0.471\\nsamples = 29\\nvalue = [18, 11]'),\n",
       " Text(149.537,28.055,'gini = 0.258\\nsamples = 46\\nvalue = [39, 7]'),\n",
       " Text(256.35,140.275,'X[13] <= 0.5\\ngini = 0.237\\nsamples = 320\\nvalue = [276, 44]'),\n",
       " Text(213.625,84.165,'X[4] <= 3741.0\\ngini = 0.484\\nsamples = 34\\nvalue = [20, 14]'),\n",
       " Text(192.263,28.055,'gini = 0.413\\nsamples = 24\\nvalue = [17, 7]'),\n",
       " Text(234.988,28.055,'gini = 0.42\\nsamples = 10\\nvalue = [3, 7]'),\n",
       " Text(299.075,84.165,'X[0] <= 2.5\\ngini = 0.188\\nsamples = 286\\nvalue = [256, 30]'),\n",
       " Text(277.713,28.055,'gini = 0.393\\nsamples = 41\\nvalue = [30, 11]'),\n",
       " Text(320.438,28.055,'gini = 0.143\\nsamples = 245\\nvalue = [226, 19]')]"
      ]
     },
     "execution_count": 13,
     "metadata": {},
     "output_type": "execute_result"
    },
    {
     "data": {
      "image/png": "[encoded data removed]",
      "text/plain": [
       "<Figure size 432x288 with 1 Axes>"
      ]
     },
     "metadata": {
      "needs_background": "light"
     },
     "output_type": "display_data"
    }
   ],
   "source": [
    "#plot the tree (model visualisation)\n",
    "plot_tree(dtree)"
   ]
  },
  {
   "cell_type": "code",
   "execution_count": 14,
   "metadata": {},
   "outputs": [
    {
     "data": {
      "image/png": "[encoded data removed]",
      "text/plain": [
       "<Figure size 432x288 with 2 Axes>"
      ]
     },
     "metadata": {
      "needs_background": "light"
     },
     "output_type": "display_data"
    },
    {
     "name": "stdout",
     "output_type": "stream",
     "text": [
      "\n",
      "Classification report:\n",
      "               precision    recall  f1-score   support\n",
      "\n",
      "           0       0.78      0.89      0.84       490\n",
      "           1       0.63      0.42      0.51       210\n",
      "\n",
      "    accuracy                           0.75       700\n",
      "   macro avg       0.71      0.66      0.67       700\n",
      "weighted avg       0.74      0.75      0.74       700\n",
      "\n"
     ]
    }
   ],
   "source": [
    "#see the training performance\n",
    "disp = plot_confusion_matrix(dtree, X_train, y_train)\n",
    "disp.ax_.set_title('Confusion matrix for training set')\n",
    "plt.show()\n",
    "print('\\nClassification report:\\n',classification_report(y_train, dtree.predict(X_train)))"
   ]
  },
  {
   "cell_type": "code",
   "execution_count": 15,
   "metadata": {},
   "outputs": [],
   "source": [
    "#test the trained model on test set\n",
    "y_pred = dtree.predict(X_test)"
   ]
  },
  {
   "cell_type": "code",
   "execution_count": 16,
   "metadata": {},
   "outputs": [
    {
     "data": {
      "image/png": "[encoded data removed]",
      "text/plain": [
       "<Figure size 432x288 with 2 Axes>"
      ]
     },
     "metadata": {
      "needs_background": "light"
     },
     "output_type": "display_data"
    },
    {
     "name": "stdout",
     "output_type": "stream",
     "text": [
      "\n",
      "Classification report:\n",
      "               precision    recall  f1-score   support\n",
      "\n",
      "           0       0.78      0.88      0.82       210\n",
      "           1       0.59      0.41      0.48        90\n",
      "\n",
      "    accuracy                           0.74       300\n",
      "   macro avg       0.68      0.64      0.65       300\n",
      "weighted avg       0.72      0.74      0.72       300\n",
      "\n"
     ]
    }
   ],
   "source": [
    "#see the testing performance\n",
    "disp = plot_confusion_matrix(dtree, X_test, y_test)\n",
    "disp.ax_.set_title('Confusion matrix for training set')\n",
    "plt.show()\n",
    "print('\\nClassification report:\\n',classification_report(y_test, y_pred))"
   ]
  },
  {
   "cell_type": "markdown",
   "metadata": {},
   "source": [
    "<hr/>\n",
    "\n",
    "**Homework:**\n",
    "\n",
    "<ol>\n",
    "    <li> Experiment with various depth of decision tree (notedown the training and testing performance)\n",
    "    <li> Remove some columns of the data and experiment. Notedown the performance.\n",
    "    <li> What can you say about these results and these variations in results?\n",
    "</ol>"
   ]
  },
  {
   "cell_type": "code",
   "execution_count": null,
   "metadata": {},
   "outputs": [],
   "source": []
  }
 ],
 "metadata": {
  "kernelspec": {
   "display_name": "Python 3",
   "language": "python",
   "name": "python3"
  },
  "language_info": {
   "codemirror_mode": {
    "name": "ipython",
    "version": 3
   },
   "file_extension": ".py",
   "mimetype": "text/x-python",
   "name": "python",
   "nbconvert_exporter": "python",
   "pygments_lexer": "ipython3",
   "version": "3.6.9"
  }
 },
 "nbformat": 4,
 "nbformat_minor": 4
}

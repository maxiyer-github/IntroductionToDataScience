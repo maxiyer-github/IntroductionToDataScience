{
 "cells": [
  {
   "cell_type": "markdown",
   "metadata": {},
   "source": [
    "**A simple data science study on [German Credit Data (StatLog)](http://archive.ics.uci.edu/ml/datasets/Statlog+(German+Credit+Data))** \n",
    "\n",
    "<ul>\n",
    "    <li>Don't panic if you are not familiar with the libraries. Slowly, I will introduce you to these.\n",
    "    <li>Play with every cell in this notebook and see what is happening. Don't play too much, until you can't fix it :-)\n",
    "    <li>Contact me, if you have any question. We can discuss in the lecture.\n",
    "</ul>"
   ]
  },
  {
   "cell_type": "code",
   "execution_count": 1,
   "metadata": {},
   "outputs": [],
   "source": [
    "#load essential header libraries\n",
    "import pandas as pd\n",
    "import numpy as np\n",
    "import matplotlib.pyplot as plt\n",
    "\n",
    "from sklearn.preprocessing import LabelEncoder\n",
    "from sklearn.tree import DecisionTreeClassifier, plot_tree\n",
    "from sklearn.model_selection import train_test_split\n",
    "from sklearn.metrics import accuracy_score, plot_confusion_matrix, classification_report"
   ]
  },
  {
   "cell_type": "markdown",
   "metadata": {},
   "source": [
    "**Data Science Project Stage: Data Collection and Management**"
   ]
  },
  {
   "cell_type": "code",
   "execution_count": 2,
   "metadata": {},
   "outputs": [],
   "source": [
    "#load the credit data\n",
    "data = pd.read_csv('german.data', delimiter=' ', header=None)"
   ]
  },
  {
   "cell_type": "code",
   "execution_count": 3,
   "metadata": {},
   "outputs": [
    {
     "data": {
      "text/html": [
       "<div>\n",
       "<style scoped>\n",
       "    .dataframe tbody tr th:only-of-type {\n",
       "        vertical-align: middle;\n",
       "    }\n",
       "\n",
       "    .dataframe tbody tr th {\n",
       "        vertical-align: top;\n",
       "    }\n",
       "\n",
       "    .dataframe thead th {\n",
       "        text-align: right;\n",
       "    }\n",
       "</style>\n",
       "<table border=\"1\" class=\"dataframe\">\n",
       "  <thead>\n",
       "    <tr style=\"text-align: right;\">\n",
       "      <th></th>\n",
       "      <th>0</th>\n",
       "      <th>1</th>\n",
       "      <th>2</th>\n",
       "      <th>3</th>\n",
       "      <th>4</th>\n",
       "      <th>5</th>\n",
       "      <th>6</th>\n",
       "      <th>7</th>\n",
       "      <th>8</th>\n",
       "      <th>9</th>\n",
       "      <th>...</th>\n",
       "      <th>11</th>\n",
       "      <th>12</th>\n",
       "      <th>13</th>\n",
       "      <th>14</th>\n",
       "      <th>15</th>\n",
       "      <th>16</th>\n",
       "      <th>17</th>\n",
       "      <th>18</th>\n",
       "      <th>19</th>\n",
       "      <th>20</th>\n",
       "    </tr>\n",
       "  </thead>\n",
       "  <tbody>\n",
       "    <tr>\n",
       "      <th>0</th>\n",
       "      <td>A11</td>\n",
       "      <td>6</td>\n",
       "      <td>A34</td>\n",
       "      <td>A43</td>\n",
       "      <td>1169</td>\n",
       "      <td>A65</td>\n",
       "      <td>A75</td>\n",
       "      <td>4</td>\n",
       "      <td>A93</td>\n",
       "      <td>A101</td>\n",
       "      <td>...</td>\n",
       "      <td>A121</td>\n",
       "      <td>67</td>\n",
       "      <td>A143</td>\n",
       "      <td>A152</td>\n",
       "      <td>2</td>\n",
       "      <td>A173</td>\n",
       "      <td>1</td>\n",
       "      <td>A192</td>\n",
       "      <td>A201</td>\n",
       "      <td>1</td>\n",
       "    </tr>\n",
       "    <tr>\n",
       "      <th>1</th>\n",
       "      <td>A12</td>\n",
       "      <td>48</td>\n",
       "      <td>A32</td>\n",
       "      <td>A43</td>\n",
       "      <td>5951</td>\n",
       "      <td>A61</td>\n",
       "      <td>A73</td>\n",
       "      <td>2</td>\n",
       "      <td>A92</td>\n",
       "      <td>A101</td>\n",
       "      <td>...</td>\n",
       "      <td>A121</td>\n",
       "      <td>22</td>\n",
       "      <td>A143</td>\n",
       "      <td>A152</td>\n",
       "      <td>1</td>\n",
       "      <td>A173</td>\n",
       "      <td>1</td>\n",
       "      <td>A191</td>\n",
       "      <td>A201</td>\n",
       "      <td>2</td>\n",
       "    </tr>\n",
       "    <tr>\n",
       "      <th>2</th>\n",
       "      <td>A14</td>\n",
       "      <td>12</td>\n",
       "      <td>A34</td>\n",
       "      <td>A46</td>\n",
       "      <td>2096</td>\n",
       "      <td>A61</td>\n",
       "      <td>A74</td>\n",
       "      <td>2</td>\n",
       "      <td>A93</td>\n",
       "      <td>A101</td>\n",
       "      <td>...</td>\n",
       "      <td>A121</td>\n",
       "      <td>49</td>\n",
       "      <td>A143</td>\n",
       "      <td>A152</td>\n",
       "      <td>1</td>\n",
       "      <td>A172</td>\n",
       "      <td>2</td>\n",
       "      <td>A191</td>\n",
       "      <td>A201</td>\n",
       "      <td>1</td>\n",
       "    </tr>\n",
       "    <tr>\n",
       "      <th>3</th>\n",
       "      <td>A11</td>\n",
       "      <td>42</td>\n",
       "      <td>A32</td>\n",
       "      <td>A42</td>\n",
       "      <td>7882</td>\n",
       "      <td>A61</td>\n",
       "      <td>A74</td>\n",
       "      <td>2</td>\n",
       "      <td>A93</td>\n",
       "      <td>A103</td>\n",
       "      <td>...</td>\n",
       "      <td>A122</td>\n",
       "      <td>45</td>\n",
       "      <td>A143</td>\n",
       "      <td>A153</td>\n",
       "      <td>1</td>\n",
       "      <td>A173</td>\n",
       "      <td>2</td>\n",
       "      <td>A191</td>\n",
       "      <td>A201</td>\n",
       "      <td>1</td>\n",
       "    </tr>\n",
       "    <tr>\n",
       "      <th>4</th>\n",
       "      <td>A11</td>\n",
       "      <td>24</td>\n",
       "      <td>A33</td>\n",
       "      <td>A40</td>\n",
       "      <td>4870</td>\n",
       "      <td>A61</td>\n",
       "      <td>A73</td>\n",
       "      <td>3</td>\n",
       "      <td>A93</td>\n",
       "      <td>A101</td>\n",
       "      <td>...</td>\n",
       "      <td>A124</td>\n",
       "      <td>53</td>\n",
       "      <td>A143</td>\n",
       "      <td>A153</td>\n",
       "      <td>2</td>\n",
       "      <td>A173</td>\n",
       "      <td>2</td>\n",
       "      <td>A191</td>\n",
       "      <td>A201</td>\n",
       "      <td>2</td>\n",
       "    </tr>\n",
       "  </tbody>\n",
       "</table>\n",
       "<p>5 rows × 21 columns</p>\n",
       "</div>"
      ],
      "text/plain": [
       "    0   1    2    3     4    5    6   7    8     9   ...    11  12    13  \\\n",
       "0  A11   6  A34  A43  1169  A65  A75   4  A93  A101  ...  A121  67  A143   \n",
       "1  A12  48  A32  A43  5951  A61  A73   2  A92  A101  ...  A121  22  A143   \n",
       "2  A14  12  A34  A46  2096  A61  A74   2  A93  A101  ...  A121  49  A143   \n",
       "3  A11  42  A32  A42  7882  A61  A74   2  A93  A103  ...  A122  45  A143   \n",
       "4  A11  24  A33  A40  4870  A61  A73   3  A93  A101  ...  A124  53  A143   \n",
       "\n",
       "     14 15    16 17    18    19 20  \n",
       "0  A152  2  A173  1  A192  A201  1  \n",
       "1  A152  1  A173  1  A191  A201  2  \n",
       "2  A152  1  A172  2  A191  A201  1  \n",
       "3  A153  1  A173  2  A191  A201  1  \n",
       "4  A153  2  A173  2  A191  A201  2  \n",
       "\n",
       "[5 rows x 21 columns]"
      ]
     },
     "execution_count": 3,
     "metadata": {},
     "output_type": "execute_result"
    }
   ],
   "source": [
    "#print the header\n",
    "data.head()"
   ]
  },
  {
   "cell_type": "markdown",
   "metadata": {},
   "source": [
    "*In the above, first 20 columns are features, last column is the class {1,2}; 1: good customer, 2: bad customer.*"
   ]
  },
  {
   "cell_type": "code",
   "execution_count": 4,
   "metadata": {},
   "outputs": [
    {
     "name": "stdout",
     "output_type": "stream",
     "text": [
      "Int64Index([0, 2, 3, 5, 6, 8, 9, 11, 13, 14, 16, 18, 19], dtype='int64')\n"
     ]
    },
    {
     "data": {
      "text/html": [
       "<div>\n",
       "<style scoped>\n",
       "    .dataframe tbody tr th:only-of-type {\n",
       "        vertical-align: middle;\n",
       "    }\n",
       "\n",
       "    .dataframe tbody tr th {\n",
       "        vertical-align: top;\n",
       "    }\n",
       "\n",
       "    .dataframe thead th {\n",
       "        text-align: right;\n",
       "    }\n",
       "</style>\n",
       "<table border=\"1\" class=\"dataframe\">\n",
       "  <thead>\n",
       "    <tr style=\"text-align: right;\">\n",
       "      <th></th>\n",
       "      <th>0</th>\n",
       "      <th>1</th>\n",
       "      <th>2</th>\n",
       "      <th>3</th>\n",
       "      <th>4</th>\n",
       "      <th>5</th>\n",
       "      <th>6</th>\n",
       "      <th>7</th>\n",
       "      <th>8</th>\n",
       "      <th>9</th>\n",
       "      <th>...</th>\n",
       "      <th>11</th>\n",
       "      <th>12</th>\n",
       "      <th>13</th>\n",
       "      <th>14</th>\n",
       "      <th>15</th>\n",
       "      <th>16</th>\n",
       "      <th>17</th>\n",
       "      <th>18</th>\n",
       "      <th>19</th>\n",
       "      <th>20</th>\n",
       "    </tr>\n",
       "  </thead>\n",
       "  <tbody>\n",
       "    <tr>\n",
       "      <th>0</th>\n",
       "      <td>0</td>\n",
       "      <td>6</td>\n",
       "      <td>4</td>\n",
       "      <td>4</td>\n",
       "      <td>1169</td>\n",
       "      <td>4</td>\n",
       "      <td>4</td>\n",
       "      <td>4</td>\n",
       "      <td>2</td>\n",
       "      <td>0</td>\n",
       "      <td>...</td>\n",
       "      <td>0</td>\n",
       "      <td>67</td>\n",
       "      <td>2</td>\n",
       "      <td>1</td>\n",
       "      <td>2</td>\n",
       "      <td>2</td>\n",
       "      <td>1</td>\n",
       "      <td>1</td>\n",
       "      <td>0</td>\n",
       "      <td>1</td>\n",
       "    </tr>\n",
       "    <tr>\n",
       "      <th>1</th>\n",
       "      <td>1</td>\n",
       "      <td>48</td>\n",
       "      <td>2</td>\n",
       "      <td>4</td>\n",
       "      <td>5951</td>\n",
       "      <td>0</td>\n",
       "      <td>2</td>\n",
       "      <td>2</td>\n",
       "      <td>1</td>\n",
       "      <td>0</td>\n",
       "      <td>...</td>\n",
       "      <td>0</td>\n",
       "      <td>22</td>\n",
       "      <td>2</td>\n",
       "      <td>1</td>\n",
       "      <td>1</td>\n",
       "      <td>2</td>\n",
       "      <td>1</td>\n",
       "      <td>0</td>\n",
       "      <td>0</td>\n",
       "      <td>2</td>\n",
       "    </tr>\n",
       "    <tr>\n",
       "      <th>2</th>\n",
       "      <td>3</td>\n",
       "      <td>12</td>\n",
       "      <td>4</td>\n",
       "      <td>7</td>\n",
       "      <td>2096</td>\n",
       "      <td>0</td>\n",
       "      <td>3</td>\n",
       "      <td>2</td>\n",
       "      <td>2</td>\n",
       "      <td>0</td>\n",
       "      <td>...</td>\n",
       "      <td>0</td>\n",
       "      <td>49</td>\n",
       "      <td>2</td>\n",
       "      <td>1</td>\n",
       "      <td>1</td>\n",
       "      <td>1</td>\n",
       "      <td>2</td>\n",
       "      <td>0</td>\n",
       "      <td>0</td>\n",
       "      <td>1</td>\n",
       "    </tr>\n",
       "    <tr>\n",
       "      <th>3</th>\n",
       "      <td>0</td>\n",
       "      <td>42</td>\n",
       "      <td>2</td>\n",
       "      <td>3</td>\n",
       "      <td>7882</td>\n",
       "      <td>0</td>\n",
       "      <td>3</td>\n",
       "      <td>2</td>\n",
       "      <td>2</td>\n",
       "      <td>2</td>\n",
       "      <td>...</td>\n",
       "      <td>1</td>\n",
       "      <td>45</td>\n",
       "      <td>2</td>\n",
       "      <td>2</td>\n",
       "      <td>1</td>\n",
       "      <td>2</td>\n",
       "      <td>2</td>\n",
       "      <td>0</td>\n",
       "      <td>0</td>\n",
       "      <td>1</td>\n",
       "    </tr>\n",
       "    <tr>\n",
       "      <th>4</th>\n",
       "      <td>0</td>\n",
       "      <td>24</td>\n",
       "      <td>3</td>\n",
       "      <td>0</td>\n",
       "      <td>4870</td>\n",
       "      <td>0</td>\n",
       "      <td>2</td>\n",
       "      <td>3</td>\n",
       "      <td>2</td>\n",
       "      <td>0</td>\n",
       "      <td>...</td>\n",
       "      <td>3</td>\n",
       "      <td>53</td>\n",
       "      <td>2</td>\n",
       "      <td>2</td>\n",
       "      <td>2</td>\n",
       "      <td>2</td>\n",
       "      <td>2</td>\n",
       "      <td>0</td>\n",
       "      <td>0</td>\n",
       "      <td>2</td>\n",
       "    </tr>\n",
       "  </tbody>\n",
       "</table>\n",
       "<p>5 rows × 21 columns</p>\n",
       "</div>"
      ],
      "text/plain": [
       "   0   1   2   3     4   5   6   7   8   9   ...  11  12  13  14  15  16  17  \\\n",
       "0   0   6   4   4  1169   4   4   4   2   0  ...   0  67   2   1   2   2   1   \n",
       "1   1  48   2   4  5951   0   2   2   1   0  ...   0  22   2   1   1   2   1   \n",
       "2   3  12   4   7  2096   0   3   2   2   0  ...   0  49   2   1   1   1   2   \n",
       "3   0  42   2   3  7882   0   3   2   2   2  ...   1  45   2   2   1   2   2   \n",
       "4   0  24   3   0  4870   0   2   3   2   0  ...   3  53   2   2   2   2   2   \n",
       "\n",
       "   18  19  20  \n",
       "0   1   0   1  \n",
       "1   0   0   2  \n",
       "2   0   0   1  \n",
       "3   0   0   1  \n",
       "4   0   0   2  \n",
       "\n",
       "[5 rows x 21 columns]"
      ]
     },
     "execution_count": 4,
     "metadata": {},
     "output_type": "execute_result"
    }
   ],
   "source": [
    "#encode the categorical features as numeric features\n",
    "categorical_cols = data.select_dtypes(include=['object', 'bool']).columns\n",
    "print(categorical_cols)\n",
    "LabelEnc = LabelEncoder()\n",
    "\n",
    "for i in range(len(categorical_cols)):\n",
    "    data[categorical_cols[i]] = LabelEnc.fit_transform(data[categorical_cols[i]])\n",
    "\n",
    "data.head()"
   ]
  },
  {
   "cell_type": "code",
   "execution_count": 5,
   "metadata": {},
   "outputs": [
    {
     "name": "stdout",
     "output_type": "stream",
     "text": [
      "# of input attributes\t\t\t:\t 20\n",
      "# of customer records in the dataset\t:\t 1000\n",
      "# of classes in the dataset\t\t:\t 2\n",
      "# of class 1(good) customers\t\t:\t 700\n",
      "# of class 2(bad) customers\t\t:\t 300\n"
     ]
    }
   ],
   "source": [
    "class_col = data.columns[-1] #-1: refers to the last column data.columns[20]\n",
    "\n",
    "#print some relevant information about this data\n",
    "print('# of input attributes\\t\\t\\t:\\t', data.shape[1]-1)\n",
    "\n",
    "#print number of instances\n",
    "print('# of customer records in the dataset\\t:\\t', data.shape[0])\n",
    "\n",
    "#number of classes of customers\n",
    "print('# of classes in the dataset\\t\\t:\\t', data[data.columns[-1]].nunique())\n",
    "\n",
    "#number of customers in each class\n",
    "print('# of class 1(good) customers\\t\\t:\\t', len(data[data[class_col]==1]))\n",
    "print('# of class 2(bad) customers\\t\\t:\\t', len(data[data[class_col]==2]))"
   ]
  },
  {
   "cell_type": "code",
   "execution_count": 6,
   "metadata": {},
   "outputs": [
    {
     "name": "stdout",
     "output_type": "stream",
     "text": [
      "shape of X: (1000, 20)\n",
      "shape of y: (1000,)\n"
     ]
    }
   ],
   "source": [
    "#extract input and class(target) from the dataset\n",
    "X = data.drop(class_col, axis=1) #axis=1 means the column axis\n",
    "y = data[class_col]\n",
    "y = LabelEnc.fit_transform(y) #convert 1, 2 to 0 and 1\n",
    "\n",
    "#check the shape of X and y\n",
    "print('shape of X:', X.shape)\n",
    "print('shape of y:', y.shape)"
   ]
  },
  {
   "cell_type": "markdown",
   "metadata": {},
   "source": [
    "**Let's say goal is to build a classification model. However, there is a problem. If we build a model with the entire dataset of 1000 records, there is no way of knowing how the model will perform when deployed. For this performance check, we will separate out a subset of (say) 30% of these data, and we will treat this data as a proxy for the real-world data (called test set). This is used to check the generalisation performance of a machine learning model.**"
   ]
  },
  {
   "cell_type": "code",
   "execution_count": 20,
   "metadata": {},
   "outputs": [],
   "source": [
    "#create the training and test set (Note that, I am not creating any development/validation set here to keep things simple)\n",
    "X_train, X_test, y_train, y_test = train_test_split(X, y, \n",
    "                                                    test_size=0.30,\n",
    "                                                    random_state=42, \n",
    "                                                    stratify=y)"
   ]
  },
  {
   "cell_type": "code",
   "execution_count": 21,
   "metadata": {},
   "outputs": [
    {
     "name": "stdout",
     "output_type": "stream",
     "text": [
      "shape of X_train\t:\t (700, 20)\n",
      "shape of y_train\t:\t (700,)\n",
      "\tclass1 count\t:\t 490\n",
      "\tclass2 count\t:\t 210\n",
      "\n",
      "shape of X_test\t\t:\t (300, 20)\n",
      "shape of y_test\t\t:\t (300,)\n",
      "\tclass1 count\t:\t 210\n",
      "\tclass2 count\t:\t 90\n"
     ]
    }
   ],
   "source": [
    "#now print the shape of the train and test set\n",
    "print('shape of X_train\\t:\\t', X_train.shape)\n",
    "print('shape of y_train\\t:\\t', y_train.shape)\n",
    "print('\\tclass1 count\\t:\\t', len(y_train[y_train==0]))\n",
    "print('\\tclass2 count\\t:\\t', len(y_train[y_train==1]))\n",
    "print()\n",
    "\n",
    "print('shape of X_test\\t\\t:\\t', X_test.shape)\n",
    "print('shape of y_test\\t\\t:\\t', y_test.shape)\n",
    "print('\\tclass1 count\\t:\\t', len(y_test[y_test==0]))\n",
    "print('\\tclass2 count\\t:\\t', len(y_test[y_test==1]))"
   ]
  },
  {
   "cell_type": "code",
   "execution_count": 19,
   "metadata": {},
   "outputs": [
    {
     "data": {
      "image/png": "[encoded data removed]",
      "text/plain": [
       "<Figure size 432x288 with 1 Axes>"
      ]
     },
     "metadata": {
      "needs_background": "light"
     },
     "output_type": "display_data"
    }
   ],
   "source": [
    "#let's plot the histogram of class distribution for these two sets\n",
    "unique, counts = np.unique(y_train, return_counts=True)\n",
    "plt.bar(unique, counts)\n",
    "unique, counts = np.unique(y_test, return_counts=True)\n",
    "plt.bar(unique, counts)\n",
    "plt.title('Class Distribution in the Dataset (Blue: Tr, Orange: Te)')\n",
    "plt.xlabel('Class')\n",
    "plt.ylabel('Count')\n",
    "locs, labels = plt.xticks()\n",
    "plt.xticks(np.arange(0, 2, step=1), ['Good', 'Bad'])\n",
    "plt.show()"
   ]
  },
  {
   "cell_type": "markdown",
   "metadata": {},
   "source": [
    "<hr/>\n",
    "\n",
    "**Data Science Project Stage: Modeling**"
   ]
  },
  {
   "cell_type": "code",
   "execution_count": 56,
   "metadata": {},
   "outputs": [],
   "source": [
    "#initialise model for a decision tree\n",
    "dtree = DecisionTreeClassifier(random_state=0, max_depth=10)\n",
    "\n",
    "#from sklearn.svm import LinearSVC\n",
    "#svm = LinearSVC(random_state=50, max_iter=10000)"
   ]
  },
  {
   "cell_type": "code",
   "execution_count": 57,
   "metadata": {},
   "outputs": [
    {
     "name": "stdout",
     "output_type": "stream",
     "text": [
      "Time taken to train the model\t:\t -0.01501011848449707 second.\n"
     ]
    }
   ],
   "source": [
    "#train the decision tree model\n",
    "import time\n",
    "\n",
    "tic = time.time()\n",
    "dtree.fit(X_train, y_train)\n",
    "#svm.fit(X_train, y_train)\n",
    "toc = time.time()\n",
    "\n",
    "print('Time taken to train the model\\t:\\t', (tic-toc),'second.')"
   ]
  },
  {
   "cell_type": "code",
   "execution_count": 52,
   "metadata": {},
   "outputs": [
    {
     "data": {
      "text/plain": [
       "[Text(184.26189320388352, 203.85, 'X[0] <= 1.5\\ngini = 0.42\\nsamples = 700\\nvalue = [490, 210]'),\n",
       " Text(120.6742718446602, 176.67000000000002, 'X[5] <= 1.5\\ngini = 0.492\\nsamples = 380\\nvalue = [214, 166]'),\n",
       " Text(65.82233009708739, 149.49, 'X[1] <= 22.5\\ngini = 0.5\\nsamples = 305\\nvalue = [157, 148]'),\n",
       " Text(26.003883495145633, 122.31, 'X[2] <= 1.5\\ngini = 0.471\\nsamples = 174\\nvalue = [108, 66]'),\n",
       " Text(6.500970873786408, 95.13, 'X[3] <= 0.5\\ngini = 0.432\\nsamples = 19\\nvalue = [6, 13]'),\n",
       " Text(3.250485436893204, 67.94999999999999, 'gini = 0.0\\nsamples = 9\\nvalue = [0, 9]'),\n",
       " Text(9.751456310679613, 67.94999999999999, 'X[1] <= 9.5\\ngini = 0.48\\nsamples = 10\\nvalue = [6, 4]'),\n",
       " Text(6.500970873786408, 40.77000000000001, 'gini = 0.0\\nsamples = 2\\nvalue = [0, 2]'),\n",
       " Text(13.001941747572817, 40.77000000000001, 'X[14] <= 0.5\\ngini = 0.375\\nsamples = 8\\nvalue = [6, 2]'),\n",
       " Text(9.751456310679613, 13.590000000000003, 'gini = 0.0\\nsamples = 1\\nvalue = [0, 1]'),\n",
       " Text(16.252427184466022, 13.590000000000003, 'gini = 0.245\\nsamples = 7\\nvalue = [6, 1]'),\n",
       " Text(45.50679611650486, 95.13, 'X[1] <= 11.5\\ngini = 0.45\\nsamples = 155\\nvalue = [102, 53]'),\n",
       " Text(32.504854368932044, 67.94999999999999, 'X[12] <= 30.5\\ngini = 0.287\\nsamples = 46\\nvalue = [38, 8]'),\n",
       " Text(26.003883495145633, 40.77000000000001, 'X[11] <= 0.5\\ngini = 0.469\\nsamples = 16\\nvalue = [10, 6]'),\n",
       " Text(22.75339805825243, 13.590000000000003, 'gini = 0.0\\nsamples = 7\\nvalue = [7, 0]'),\n",
       " Text(29.254368932038837, 13.590000000000003, 'gini = 0.444\\nsamples = 9\\nvalue = [3, 6]'),\n",
       " Text(39.00582524271845, 40.77000000000001, 'X[16] <= 2.5\\ngini = 0.124\\nsamples = 30\\nvalue = [28, 2]'),\n",
       " Text(35.755339805825244, 13.590000000000003, 'gini = 0.0\\nsamples = 24\\nvalue = [24, 0]'),\n",
       " Text(42.25631067961165, 13.590000000000003, 'gini = 0.444\\nsamples = 6\\nvalue = [4, 2]'),\n",
       " Text(58.50873786407767, 67.94999999999999, 'X[4] <= 954.5\\ngini = 0.485\\nsamples = 109\\nvalue = [64, 45]'),\n",
       " Text(52.007766990291266, 40.77000000000001, 'X[11] <= 1.5\\ngini = 0.444\\nsamples = 21\\nvalue = [7, 14]'),\n",
       " Text(48.75728155339806, 13.590000000000003, 'gini = 0.497\\nsamples = 13\\nvalue = [7, 6]'),\n",
       " Text(55.25825242718447, 13.590000000000003, 'gini = 0.0\\nsamples = 8\\nvalue = [0, 8]'),\n",
       " Text(65.00970873786409, 40.77000000000001, 'X[1] <= 16.5\\ngini = 0.456\\nsamples = 88\\nvalue = [57, 31]'),\n",
       " Text(61.75922330097088, 13.590000000000003, 'gini = 0.37\\nsamples = 49\\nvalue = [37, 12]'),\n",
       " Text(68.26019417475729, 13.590000000000003, 'gini = 0.5\\nsamples = 39\\nvalue = [20, 19]'),\n",
       " Text(105.64077669902913, 122.31, 'X[7] <= 2.5\\ngini = 0.468\\nsamples = 131\\nvalue = [49, 82]'),\n",
       " Text(87.76310679611652, 95.13, 'X[4] <= 11141.0\\ngini = 0.5\\nsamples = 51\\nvalue = [26, 25]'),\n",
       " Text(84.5126213592233, 67.94999999999999, 'X[3] <= 2.5\\ngini = 0.491\\nsamples = 46\\nvalue = [26, 20]'),\n",
       " Text(78.0116504854369, 40.77000000000001, 'X[12] <= 29.5\\ngini = 0.305\\nsamples = 16\\nvalue = [13, 3]'),\n",
       " Text(74.76116504854369, 13.590000000000003, 'gini = 0.444\\nsamples = 3\\nvalue = [1, 2]'),\n",
       " Text(81.2621359223301, 13.590000000000003, 'gini = 0.142\\nsamples = 13\\nvalue = [12, 1]'),\n",
       " Text(91.01359223300972, 40.77000000000001, 'X[18] <= 0.5\\ngini = 0.491\\nsamples = 30\\nvalue = [13, 17]'),\n",
       " Text(87.76310679611652, 13.590000000000003, 'gini = 0.475\\nsamples = 18\\nvalue = [11, 7]'),\n",
       " Text(94.26407766990292, 13.590000000000003, 'gini = 0.278\\nsamples = 12\\nvalue = [2, 10]'),\n",
       " Text(91.01359223300972, 67.94999999999999, 'gini = 0.0\\nsamples = 5\\nvalue = [0, 5]'),\n",
       " Text(123.51844660194176, 95.13, 'X[5] <= 0.5\\ngini = 0.41\\nsamples = 80\\nvalue = [23, 57]'),\n",
       " Text(110.51650485436895, 67.94999999999999, 'X[11] <= 2.5\\ngini = 0.342\\nsamples = 64\\nvalue = [14, 50]'),\n",
       " Text(104.01553398058253, 40.77000000000001, 'X[12] <= 45.5\\ngini = 0.427\\nsamples = 42\\nvalue = [13, 29]'),\n",
       " Text(100.76504854368933, 13.590000000000003, 'gini = 0.368\\nsamples = 37\\nvalue = [9, 28]'),\n",
       " Text(107.26601941747573, 13.590000000000003, 'gini = 0.32\\nsamples = 5\\nvalue = [4, 1]'),\n",
       " Text(117.01747572815535, 40.77000000000001, 'X[10] <= 1.5\\ngini = 0.087\\nsamples = 22\\nvalue = [1, 21]'),\n",
       " Text(113.76699029126215, 13.590000000000003, 'gini = 0.5\\nsamples = 2\\nvalue = [1, 1]'),\n",
       " Text(120.26796116504855, 13.590000000000003, 'gini = 0.0\\nsamples = 20\\nvalue = [0, 20]'),\n",
       " Text(136.52038834951458, 67.94999999999999, 'X[2] <= 2.5\\ngini = 0.492\\nsamples = 16\\nvalue = [9, 7]'),\n",
       " Text(130.01941747572818, 40.77000000000001, 'X[3] <= 6.5\\ngini = 0.375\\nsamples = 8\\nvalue = [2, 6]'),\n",
       " Text(126.76893203883496, 13.590000000000003, 'gini = 0.245\\nsamples = 7\\nvalue = [1, 6]'),\n",
       " Text(133.26990291262138, 13.590000000000003, 'gini = 0.0\\nsamples = 1\\nvalue = [1, 0]'),\n",
       " Text(143.02135922330098, 40.77000000000001, 'X[13] <= 1.5\\ngini = 0.219\\nsamples = 8\\nvalue = [7, 1]'),\n",
       " Text(139.77087378640778, 13.590000000000003, 'gini = 0.5\\nsamples = 2\\nvalue = [1, 1]'),\n",
       " Text(146.27184466019418, 13.590000000000003, 'gini = 0.0\\nsamples = 6\\nvalue = [6, 0]'),\n",
       " Text(175.52621359223303, 149.49, 'X[4] <= 2002.5\\ngini = 0.365\\nsamples = 75\\nvalue = [57, 18]'),\n",
       " Text(162.5242718446602, 122.31, 'X[13] <= 1.5\\ngini = 0.471\\nsamples = 29\\nvalue = [18, 11]'),\n",
       " Text(159.273786407767, 95.13, 'gini = 0.0\\nsamples = 3\\nvalue = [0, 3]'),\n",
       " Text(165.7747572815534, 95.13, 'X[1] <= 16.5\\ngini = 0.426\\nsamples = 26\\nvalue = [18, 8]'),\n",
       " Text(159.273786407767, 67.94999999999999, 'X[11] <= 2.5\\ngini = 0.291\\nsamples = 17\\nvalue = [14, 3]'),\n",
       " Text(156.0233009708738, 40.77000000000001, 'X[4] <= 916.0\\ngini = 0.219\\nsamples = 16\\nvalue = [14, 2]'),\n",
       " Text(152.7728155339806, 13.590000000000003, 'gini = 0.444\\nsamples = 6\\nvalue = [4, 2]'),\n",
       " Text(159.273786407767, 13.590000000000003, 'gini = 0.0\\nsamples = 10\\nvalue = [10, 0]'),\n",
       " Text(162.5242718446602, 40.77000000000001, 'gini = 0.0\\nsamples = 1\\nvalue = [0, 1]'),\n",
       " Text(172.2757281553398, 67.94999999999999, 'X[12] <= 41.0\\ngini = 0.494\\nsamples = 9\\nvalue = [4, 5]'),\n",
       " Text(169.0252427184466, 40.77000000000001, 'X[10] <= 1.5\\ngini = 0.278\\nsamples = 6\\nvalue = [1, 5]'),\n",
       " Text(165.7747572815534, 13.590000000000003, 'gini = 0.0\\nsamples = 1\\nvalue = [1, 0]'),\n",
       " Text(172.2757281553398, 13.590000000000003, 'gini = 0.0\\nsamples = 5\\nvalue = [0, 5]'),\n",
       " Text(175.52621359223303, 40.77000000000001, 'gini = 0.0\\nsamples = 3\\nvalue = [3, 0]'),\n",
       " Text(188.52815533980583, 122.31, 'X[12] <= 21.0\\ngini = 0.258\\nsamples = 46\\nvalue = [39, 7]'),\n",
       " Text(185.27766990291263, 95.13, 'gini = 0.0\\nsamples = 1\\nvalue = [0, 1]'),\n",
       " Text(191.77864077669904, 95.13, 'X[11] <= 2.5\\ngini = 0.231\\nsamples = 45\\nvalue = [39, 6]'),\n",
       " Text(185.27766990291263, 67.94999999999999, 'X[12] <= 28.5\\ngini = 0.114\\nsamples = 33\\nvalue = [31, 2]'),\n",
       " Text(182.02718446601943, 40.77000000000001, 'X[0] <= 0.5\\ngini = 0.245\\nsamples = 14\\nvalue = [12, 2]'),\n",
       " Text(178.77669902912623, 13.590000000000003, 'gini = 0.0\\nsamples = 8\\nvalue = [8, 0]'),\n",
       " Text(185.27766990291263, 13.590000000000003, 'gini = 0.444\\nsamples = 6\\nvalue = [4, 2]'),\n",
       " Text(188.52815533980583, 40.77000000000001, 'gini = 0.0\\nsamples = 19\\nvalue = [19, 0]'),\n",
       " Text(198.27961165048546, 67.94999999999999, 'X[0] <= 0.5\\ngini = 0.444\\nsamples = 12\\nvalue = [8, 4]'),\n",
       " Text(195.02912621359224, 40.77000000000001, 'gini = 0.0\\nsamples = 2\\nvalue = [0, 2]'),\n",
       " Text(201.53009708737866, 40.77000000000001, 'X[12] <= 46.0\\ngini = 0.32\\nsamples = 10\\nvalue = [8, 2]'),\n",
       " Text(198.27961165048546, 13.590000000000003, 'gini = 0.198\\nsamples = 9\\nvalue = [8, 1]'),\n",
       " Text(204.78058252427186, 13.590000000000003, 'gini = 0.0\\nsamples = 1\\nvalue = [0, 1]'),\n",
       " Text(247.84951456310682, 176.67000000000002, 'X[13] <= 0.5\\ngini = 0.237\\nsamples = 320\\nvalue = [276, 44]'),\n",
       " Text(222.6582524271845, 149.49, 'X[4] <= 3741.0\\ngini = 0.484\\nsamples = 34\\nvalue = [20, 14]'),\n",
       " Text(214.53203883495146, 122.31, 'X[16] <= 1.5\\ngini = 0.413\\nsamples = 24\\nvalue = [17, 7]'),\n",
       " Text(208.03106796116506, 95.13, 'X[10] <= 3.5\\ngini = 0.49\\nsamples = 7\\nvalue = [3, 4]'),\n",
       " Text(204.78058252427186, 67.94999999999999, 'gini = 0.0\\nsamples = 3\\nvalue = [0, 3]'),\n",
       " Text(211.28155339805826, 67.94999999999999, 'X[4] <= 1144.0\\ngini = 0.375\\nsamples = 4\\nvalue = [3, 1]'),\n",
       " Text(208.03106796116506, 40.77000000000001, 'gini = 0.0\\nsamples = 1\\nvalue = [0, 1]'),\n",
       " Text(214.53203883495146, 40.77000000000001, 'gini = 0.0\\nsamples = 3\\nvalue = [3, 0]'),\n",
       " Text(221.0330097087379, 95.13, 'X[1] <= 16.5\\ngini = 0.291\\nsamples = 17\\nvalue = [14, 3]'),\n",
       " Text(217.78252427184466, 67.94999999999999, 'gini = 0.0\\nsamples = 8\\nvalue = [8, 0]'),\n",
       " Text(224.2834951456311, 67.94999999999999, 'X[16] <= 2.5\\ngini = 0.444\\nsamples = 9\\nvalue = [6, 3]'),\n",
       " Text(221.0330097087379, 40.77000000000001, 'X[10] <= 3.5\\ngini = 0.48\\nsamples = 5\\nvalue = [2, 3]'),\n",
       " Text(217.78252427184466, 13.590000000000003, 'gini = 0.0\\nsamples = 3\\nvalue = [0, 3]'),\n",
       " Text(224.2834951456311, 13.590000000000003, 'gini = 0.0\\nsamples = 2\\nvalue = [2, 0]'),\n",
       " Text(227.5339805825243, 40.77000000000001, 'gini = 0.0\\nsamples = 4\\nvalue = [4, 0]'),\n",
       " Text(230.7844660194175, 122.31, 'X[2] <= 2.5\\ngini = 0.42\\nsamples = 10\\nvalue = [3, 7]'),\n",
       " Text(227.5339805825243, 95.13, 'gini = 0.0\\nsamples = 5\\nvalue = [0, 5]'),\n",
       " Text(234.0349514563107, 95.13, 'X[12] <= 29.0\\ngini = 0.48\\nsamples = 5\\nvalue = [3, 2]'),\n",
       " Text(230.7844660194175, 67.94999999999999, 'gini = 0.0\\nsamples = 2\\nvalue = [0, 2]'),\n",
       " Text(237.2854368932039, 67.94999999999999, 'gini = 0.0\\nsamples = 3\\nvalue = [3, 0]'),\n",
       " Text(273.04077669902915, 149.49, 'X[0] <= 2.5\\ngini = 0.188\\nsamples = 286\\nvalue = [256, 30]'),\n",
       " Text(247.03689320388352, 122.31, 'X[12] <= 24.5\\ngini = 0.393\\nsamples = 41\\nvalue = [30, 11]'),\n",
       " Text(243.78640776699032, 95.13, 'gini = 0.0\\nsamples = 8\\nvalue = [8, 0]'),\n",
       " Text(250.28737864077672, 95.13, 'X[7] <= 3.5\\ngini = 0.444\\nsamples = 33\\nvalue = [22, 11]'),\n",
       " Text(243.78640776699032, 67.94999999999999, 'X[14] <= 1.5\\ngini = 0.351\\nsamples = 22\\nvalue = [17, 5]'),\n",
       " Text(240.5359223300971, 40.77000000000001, 'X[12] <= 25.5\\ngini = 0.255\\nsamples = 20\\nvalue = [17, 3]'),\n",
       " Text(237.2854368932039, 13.590000000000003, 'gini = 0.0\\nsamples = 1\\nvalue = [0, 1]'),\n",
       " Text(243.78640776699032, 13.590000000000003, 'gini = 0.188\\nsamples = 19\\nvalue = [17, 2]'),\n",
       " Text(247.03689320388352, 40.77000000000001, 'gini = 0.0\\nsamples = 2\\nvalue = [0, 2]'),\n",
       " Text(256.78834951456315, 67.94999999999999, 'X[6] <= 2.5\\ngini = 0.496\\nsamples = 11\\nvalue = [5, 6]'),\n",
       " Text(253.53786407766992, 40.77000000000001, 'gini = 0.0\\nsamples = 4\\nvalue = [0, 4]'),\n",
       " Text(260.03883495145635, 40.77000000000001, 'X[11] <= 0.5\\ngini = 0.408\\nsamples = 7\\nvalue = [5, 2]'),\n",
       " Text(256.78834951456315, 13.590000000000003, 'gini = 0.0\\nsamples = 2\\nvalue = [0, 2]'),\n",
       " Text(263.28932038834955, 13.590000000000003, 'gini = 0.0\\nsamples = 5\\nvalue = [5, 0]'),\n",
       " Text(299.04466019417475, 122.31, 'X[3] <= 5.5\\ngini = 0.143\\nsamples = 245\\nvalue = [226, 19]'),\n",
       " Text(277.91650485436895, 95.13, 'X[4] <= 475.5\\ngini = 0.102\\nsamples = 204\\nvalue = [193, 11]'),\n",
       " Text(269.79029126213595, 67.94999999999999, 'X[9] <= 0.5\\ngini = 0.5\\nsamples = 2\\nvalue = [1, 1]'),\n",
       " Text(266.53980582524275, 40.77000000000001, 'gini = 0.0\\nsamples = 1\\nvalue = [1, 0]'),\n",
       " Text(273.04077669902915, 40.77000000000001, 'gini = 0.0\\nsamples = 1\\nvalue = [0, 1]'),\n",
       " Text(286.04271844660195, 67.94999999999999, 'X[4] <= 3346.0\\ngini = 0.094\\nsamples = 202\\nvalue = [192, 10]'),\n",
       " Text(279.54174757281555, 40.77000000000001, 'X[16] <= 1.5\\ngini = 0.042\\nsamples = 140\\nvalue = [137, 3]'),\n",
       " Text(276.29126213592235, 13.590000000000003, 'gini = 0.198\\nsamples = 27\\nvalue = [24, 3]'),\n",
       " Text(282.79223300970875, 13.590000000000003, 'gini = 0.0\\nsamples = 113\\nvalue = [113, 0]'),\n",
       " Text(292.54368932038835, 40.77000000000001, 'X[4] <= 3358.5\\ngini = 0.2\\nsamples = 62\\nvalue = [55, 7]'),\n",
       " Text(289.29320388349515, 13.590000000000003, 'gini = 0.0\\nsamples = 1\\nvalue = [0, 1]'),\n",
       " Text(295.79417475728155, 13.590000000000003, 'gini = 0.177\\nsamples = 61\\nvalue = [55, 6]'),\n",
       " Text(320.1728155339806, 95.13, 'X[4] <= 7694.5\\ngini = 0.314\\nsamples = 41\\nvalue = [33, 8]'),\n",
       " Text(312.0466019417476, 67.94999999999999, 'X[13] <= 1.5\\ngini = 0.266\\nsamples = 38\\nvalue = [32, 6]'),\n",
       " Text(305.5456310679612, 40.77000000000001, 'X[10] <= 1.5\\ngini = 0.444\\nsamples = 3\\nvalue = [1, 2]'),\n",
       " Text(302.295145631068, 13.590000000000003, 'gini = 0.0\\nsamples = 1\\nvalue = [1, 0]'),\n",
       " Text(308.7961165048544, 13.590000000000003, 'gini = 0.0\\nsamples = 2\\nvalue = [0, 2]'),\n",
       " Text(318.547572815534, 40.77000000000001, 'X[1] <= 21.0\\ngini = 0.202\\nsamples = 35\\nvalue = [31, 4]'),\n",
       " Text(315.2970873786408, 13.590000000000003, 'gini = 0.32\\nsamples = 20\\nvalue = [16, 4]'),\n",
       " Text(321.7980582524272, 13.590000000000003, 'gini = 0.0\\nsamples = 15\\nvalue = [15, 0]'),\n",
       " Text(328.2990291262136, 67.94999999999999, 'X[16] <= 1.5\\ngini = 0.444\\nsamples = 3\\nvalue = [1, 2]'),\n",
       " Text(325.0485436893204, 40.77000000000001, 'gini = 0.0\\nsamples = 1\\nvalue = [1, 0]'),\n",
       " Text(331.5495145631068, 40.77000000000001, 'gini = 0.0\\nsamples = 2\\nvalue = [0, 2]')]"
      ]
     },
     "execution_count": 52,
     "metadata": {},
     "output_type": "execute_result"
    },
    {
     "data": {
      "image/png": "[encoded data removed]",
      "text/plain": [
       "<Figure size 432x288 with 1 Axes>"
      ]
     },
     "metadata": {
      "needs_background": "light"
     },
     "output_type": "display_data"
    }
   ],
   "source": [
    "#plot the tree (model visualisation)\n",
    "plot_tree(dtree)"
   ]
  },
  {
   "cell_type": "code",
   "execution_count": 58,
   "metadata": {},
   "outputs": [
    {
     "data": {
      "image/png": "[encoded data removed]",
      "text/plain": [
       "<Figure size 432x288 with 2 Axes>"
      ]
     },
     "metadata": {
      "needs_background": "light"
     },
     "output_type": "display_data"
    },
    {
     "name": "stdout",
     "output_type": "stream",
     "text": [
      "\n",
      "Classification report:\n",
      "               precision    recall  f1-score   support\n",
      "\n",
      "           0       0.98      0.98      0.98       490\n",
      "           1       0.96      0.96      0.96       210\n",
      "\n",
      "    accuracy                           0.98       700\n",
      "   macro avg       0.97      0.97      0.97       700\n",
      "weighted avg       0.98      0.98      0.98       700\n",
      "\n"
     ]
    }
   ],
   "source": [
    "#see the training performance\n",
    "disp = plot_confusion_matrix(dtree, X_train, y_train)\n",
    "disp.ax_.set_title('Confusion matrix for training set')\n",
    "plt.show()\n",
    "print('\\nClassification report:\\n',classification_report(y_train, dtree.predict(X_train)))"
   ]
  },
  {
   "cell_type": "code",
   "execution_count": 59,
   "metadata": {},
   "outputs": [],
   "source": [
    "#test the trained model on test set\n",
    "y_pred = dtree.predict(X_test)"
   ]
  },
  {
   "cell_type": "code",
   "execution_count": 60,
   "metadata": {},
   "outputs": [
    {
     "data": {
      "image/png": "[encoded data removed]",
      "text/plain": [
       "<Figure size 432x288 with 2 Axes>"
      ]
     },
     "metadata": {
      "needs_background": "light"
     },
     "output_type": "display_data"
    },
    {
     "name": "stdout",
     "output_type": "stream",
     "text": [
      "\n",
      "Classification report:\n",
      "               precision    recall  f1-score   support\n",
      "\n",
      "           0       0.78      0.73      0.76       210\n",
      "           1       0.46      0.53      0.49        90\n",
      "\n",
      "    accuracy                           0.67       300\n",
      "   macro avg       0.62      0.63      0.62       300\n",
      "weighted avg       0.69      0.67      0.68       300\n",
      "\n"
     ]
    }
   ],
   "source": [
    "#see the testing performance\n",
    "disp = plot_confusion_matrix(dtree, X_test, y_test)\n",
    "disp.ax_.set_title('Confusion matrix for training set')\n",
    "plt.show()\n",
    "print('\\nClassification report:\\n',classification_report(y_test, y_pred))"
   ]
  },
  {
   "cell_type": "markdown",
   "metadata": {},
   "source": [
    "<hr/>\n",
    "\n",
    "**Homework:**\n",
    "\n",
    "<ol>\n",
    "    <li> Experiment with various depth of decision tree (notedown the training and testing performance)\n",
    "    <li> Remove some columns of the data and experiment. Notedown the performance.\n",
    "    <li> What can you say about these results and these variations in results?\n",
    "</ol>"
   ]
  },
  {
   "cell_type": "code",
   "execution_count": null,
   "metadata": {},
   "outputs": [],
   "source": []
  }
 ],
 "metadata": {
  "kernelspec": {
   "display_name": "Python 3",
   "language": "python",
   "name": "python3"
  },
  "language_info": {
   "codemirror_mode": {
    "name": "ipython",
    "version": 3
   },
   "file_extension": ".py",
   "mimetype": "text/x-python",
   "name": "python",
   "nbconvert_exporter": "python",
   "pygments_lexer": "ipython3",
   "version": "3.8.3"
  }
 },
 "nbformat": 4,
 "nbformat_minor": 4
}

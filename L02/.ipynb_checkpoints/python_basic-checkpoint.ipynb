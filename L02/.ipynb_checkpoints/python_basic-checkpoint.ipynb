{
 "cells": [
  {
   "cell_type": "markdown",
   "metadata": {},
   "source": [
    "**WILP Lect02-Introduction to Data Science (Basic Python Demonstration) | Instructor: Tirtharaj Dash**"
   ]
  },
  {
   "cell_type": "code",
   "execution_count": 15,
   "metadata": {},
   "outputs": [
    {
     "name": "stdout",
     "output_type": "stream",
     "text": [
      "Hello, People!\n"
     ]
    }
   ],
   "source": [
    "print('Hello, People!')"
   ]
  },
  {
   "cell_type": "code",
   "execution_count": 19,
   "metadata": {},
   "outputs": [
    {
     "name": "stdout",
     "output_type": "stream",
     "text": [
      "Hello, People!\n"
     ]
    }
   ],
   "source": [
    "msg = 'Hello, People!'\n",
    "print(msg)"
   ]
  },
  {
   "cell_type": "code",
   "execution_count": 20,
   "metadata": {},
   "outputs": [
    {
     "name": "stdout",
     "output_type": "stream",
     "text": [
      "Which type of variable str is? <class 'str'>\n"
     ]
    }
   ],
   "source": [
    "print('Which type of variable str is?',type(msg))"
   ]
  },
  {
   "cell_type": "code",
   "execution_count": 15,
   "metadata": {},
   "outputs": [
    {
     "name": "stdout",
     "output_type": "stream",
     "text": [
      "Value of variable a is 5\n",
      "Value of variable b is 6\n",
      "Sum of 5 and 6 is 11\n",
      "Average of 5 and 6 is 5.5\n"
     ]
    }
   ],
   "source": [
    "#variable\n",
    "a = 5\n",
    "b = 6\n",
    "\n",
    "print('Value of variable a is',a)\n",
    "print('Value of variable b is',b)\n",
    "\n",
    "print('Sum of',a,'and',b,'is',a + b)\n",
    "print('Average of',a,'and',b,'is',(a + b)/2)"
   ]
  },
  {
   "cell_type": "code",
   "execution_count": 29,
   "metadata": {},
   "outputs": [
    {
     "name": "stdout",
     "output_type": "stream",
     "text": [
      "a*b is 30\n",
      "a/b is 0.8333333333333334\n",
      "a/b in format 0.8333 is \n",
      "a raised to the power 2 is 25\n",
      "Remainder of a/2 is 1\n"
     ]
    }
   ],
   "source": [
    "#some operators\n",
    "print('a*b is', a * b)\n",
    "print('a/b is', a / b)\n",
    "print('a/b in format %0.4f is ' % (a / b))\n",
    "print('a raised to the power 2 is', a ** 2)\n",
    "print('Remainder of a/2 is', a % 2)"
   ]
  },
  {
   "cell_type": "code",
   "execution_count": 37,
   "metadata": {},
   "outputs": [
    {
     "name": "stdout",
     "output_type": "stream",
     "text": [
      "How are you?\n"
     ]
    }
   ],
   "source": [
    "#Operate with strings\n",
    "str1 = 'How'\n",
    "str2 = 'are you?'\n",
    "print(str1 +' '+str2)"
   ]
  },
  {
   "cell_type": "code",
   "execution_count": 39,
   "metadata": {},
   "outputs": [
    {
     "name": "stdout",
     "output_type": "stream",
     "text": [
      "Enter your name:Dash\n",
      "Enter your age:28\n",
      "\n",
      "Name\t: Dash\n",
      "Age\t:  28\n"
     ]
    }
   ],
   "source": [
    "#let's play with user inputs\n",
    "name = input('Enter your name:')\n",
    "age = input('Enter your age:')\n",
    "print('\\nName\\t:', name)\n",
    "print('Age\\t: ', age)"
   ]
  },
  {
   "cell_type": "code",
   "execution_count": 58,
   "metadata": {},
   "outputs": [
    {
     "name": "stdout",
     "output_type": "stream",
     "text": [
      "Enter your age:twenty two\n",
      "\n",
      "Age\t:  twenty two\n"
     ]
    },
    {
     "ename": "ValueError",
     "evalue": "invalid literal for int() with base 10: 'twenty two'",
     "output_type": "error",
     "traceback": [
      "\u001b[1;31m---------------------------------------------------------------------------\u001b[0m",
      "\u001b[1;31mValueError\u001b[0m                                Traceback (most recent call last)",
      "\u001b[1;32m<ipython-input-58-2fde2a86a699>\u001b[0m in \u001b[0;36m<module>\u001b[1;34m\u001b[0m\n\u001b[0;32m      3\u001b[0m \u001b[0mprint\u001b[0m\u001b[1;33m(\u001b[0m\u001b[1;34m'\\nAge\\t: '\u001b[0m\u001b[1;33m,\u001b[0m \u001b[0mage\u001b[0m\u001b[1;33m)\u001b[0m \u001b[1;31m#this will work\u001b[0m\u001b[1;33m\u001b[0m\u001b[1;33m\u001b[0m\u001b[0m\n\u001b[0;32m      4\u001b[0m \u001b[1;33m\u001b[0m\u001b[0m\n\u001b[1;32m----> 5\u001b[1;33m \u001b[0mage\u001b[0m \u001b[1;33m=\u001b[0m \u001b[0mint\u001b[0m\u001b[1;33m(\u001b[0m\u001b[0mage\u001b[0m\u001b[1;33m)\u001b[0m \u001b[1;33m+\u001b[0m \u001b[1;36m10\u001b[0m\u001b[1;33m\u001b[0m\u001b[1;33m\u001b[0m\u001b[0m\n\u001b[0m\u001b[0;32m      6\u001b[0m \u001b[0mprint\u001b[0m\u001b[1;33m(\u001b[0m\u001b[1;34m'Your age after 10 years: '\u001b[0m\u001b[1;33m,\u001b[0m \u001b[0mage\u001b[0m\u001b[1;33m)\u001b[0m \u001b[1;31m#this should fail\u001b[0m\u001b[1;33m\u001b[0m\u001b[1;33m\u001b[0m\u001b[0m\n",
      "\u001b[1;31mValueError\u001b[0m: invalid literal for int() with base 10: 'twenty two'"
     ]
    }
   ],
   "source": [
    "#Let say in the above example the user enters a string for age (e.g. twenty eight)\n",
    "age = input('Enter your age:') #enter twenty eight when asked\n",
    "print('\\nAge\\t: ', age) #this will work\n",
    "\n",
    "age = int(age) + 10\n",
    "print('Your age after 10 years: ', age) #this should fail"
   ]
  },
  {
   "cell_type": "code",
   "execution_count": 59,
   "metadata": {},
   "outputs": [
    {
     "name": "stdout",
     "output_type": "stream",
     "text": [
      "Enter your age:28\n",
      "Your age after 10 years:  38\n"
     ]
    }
   ],
   "source": [
    "#how to make the above one work (see below)\n",
    "age = input('Enter your age:')\n",
    "\n",
    "try:\n",
    "    age = int(age) + 10\n",
    "    print('Your age after 10 years: ', age)\n",
    "except TypeError:\n",
    "    print('Entered age does not satisfy type for addition.')"
   ]
  },
  {
   "cell_type": "code",
   "execution_count": null,
   "metadata": {},
   "outputs": [],
   "source": []
  }
 ],
 "metadata": {
  "kernelspec": {
   "display_name": "Python 3",
   "language": "python",
   "name": "python3"
  },
  "language_info": {
   "codemirror_mode": {
    "name": "ipython",
    "version": 3
   },
   "file_extension": ".py",
   "mimetype": "text/x-python",
   "name": "python",
   "nbconvert_exporter": "python",
   "pygments_lexer": "ipython3",
   "version": "3.8.3"
  }
 },
 "nbformat": 4,
 "nbformat_minor": 4
}

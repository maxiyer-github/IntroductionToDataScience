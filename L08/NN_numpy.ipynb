{
 "cells": [
  {
   "cell_type": "markdown",
   "metadata": {},
   "source": [
    "**Neural Network Playground**\n",
    "\n",
    "Visualising a neural network and its working is always fun. Here is a website, where you can play and learn a few things: https://playground.tensorflow.org/ (accessed date: 07 Nov, 2020)\n",
    "\n",
    "</hr>"
   ]
  },
  {
   "cell_type": "markdown",
   "metadata": {},
   "source": [
    "**Today's Lab -- Manually coding a neural network from scratch**\n",
    "\n",
    "In today's lab, we will look at simple working principle (mathematics) of a neural network. Most of the things should be clear from the code itself; if needed, I will walk you through these codes."
   ]
  },
  {
   "cell_type": "code",
   "execution_count": 1,
   "metadata": {
    "id": "E30jtBI1_V5e"
   },
   "outputs": [],
   "source": [
    "import numpy as np\n",
    "import matplotlib.pyplot as plt\n",
    "\n",
    "#set a seed\n",
    "np.random.seed(0)"
   ]
  },
  {
   "cell_type": "markdown",
   "metadata": {
    "id": "uUsMIFWDBcve"
   },
   "source": [
    "Logical 2-bit **AND** data with $(x_1, x_2)$ as attributes; and $y$ as the output.\n",
    "\n",
    "\n",
    "| $x_1$ | $x_2$ | $y$ |\n",
    "|----|----|---|\n",
    "| 0  | 0  | 0 |\n",
    "| 0  | 1  | 0 |\n",
    "| 1  | 0  | 0 |\n",
    "| 1  | 1  | 1 |"
   ]
  },
  {
   "cell_type": "code",
   "execution_count": 2,
   "metadata": {
    "id": "kfCdjI2_A40j"
   },
   "outputs": [],
   "source": [
    "X = np.array([[0, 0], [0, 1], [1, 0], [1, 1]])\n",
    "y = np.array([0, 0, 0, 1])"
   ]
  },
  {
   "cell_type": "markdown",
   "metadata": {
    "id": "CXbW5AGyCQ8F"
   },
   "source": [
    "This is the architecture that we are planning to use for this problem:\n",
    "![image.png](data:image/png;base64,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)"
   ]
  },
  {
   "cell_type": "markdown",
   "metadata": {
    "id": "Nhj5a2khgYpY"
   },
   "source": [
    "Equations for reference (Make sure you derive these on your own)\n",
    "\n",
    "Net input: $z = W.X + b$\n",
    "\n",
    "Activation at output (or the predicted output): $a = \\sigma(z)$ ($\\sigma$ is sigmoid($\\cdot$) activation function)\n",
    "\n",
    "Loss: $L = \\frac{1}{2m}\\left(y-a\\right)^2$ : this is MSE Loss \n",
    "\n",
    "(**Note** We are not supposed to be using MSE loss for classification problem. MSE loss is useful for regression problems. The AND classification problem that we are solving here is a classification problem as $y$ is discrete. For this kind of problem, cross-entropy loss is suitable. For simplicity, I am using it for this program.)\n",
    "\n",
    "Partial derivatives (Compute sequence backward is: $L \\rightarrow a \\rightarrow z \\rightarrow {W, b}$)\n",
    "\n",
    "$\\frac{dL}{da} = -\\frac{1}{m}(y-a)$\n",
    "\n",
    "$\\frac{da}{dz}$ = $a(1-a)$\n",
    "\n",
    "$\\frac{dz}{dW} = x$\n",
    "\n",
    "$\\frac{dz}{db} = 0$"
   ]
  },
  {
   "cell_type": "code",
   "execution_count": 3,
   "metadata": {
    "colab": {
     "base_uri": "https://localhost:8080/",
     "height": 67
    },
    "id": "pyhMc9UUCfRh",
    "outputId": "b2304ac2-c2fe-44a3-cd9a-1338d612d54b"
   },
   "outputs": [
    {
     "name": "stdout",
     "output_type": "stream",
     "text": [
      "[[0 0]\n",
      " [0 1]\n",
      " [1 0]\n",
      " [1 1]]\n",
      "Shape of X_train: (4, 2)\n",
      "[0 0 0 1]\n",
      "Shape of y_train: (4,)\n"
     ]
    }
   ],
   "source": [
    "#I am using here whole dataset to build the model.\n",
    "X_train = X\n",
    "y_train = y\n",
    "\n",
    "print(X_train) \n",
    "print('Shape of X_train:',X_train.shape)\n",
    "\n",
    "print(y_train)\n",
    "print('Shape of y_train:',y_train.shape)"
   ]
  },
  {
   "cell_type": "code",
   "execution_count": 4,
   "metadata": {
    "id": "ZlMSYITzCh18"
   },
   "outputs": [],
   "source": [
    "# Some utility functions\n",
    "def compute_mse_cost(Y, Y_hat):\n",
    "    m = Y.shape[0] \n",
    "\n",
    "    cost = (1 / (2 * m)) * np.sum(np.square(Y - Y_hat))\n",
    "    cost = np.squeeze(cost)\n",
    "\n",
    "    dY_hat = -1 / m * (Y - Y_hat) \n",
    "\n",
    "    return cost, dY_hat\n",
    "\n",
    "def sigmoid(z):\n",
    "    s = 1 / (1 + np.exp(-z))\n",
    "    return s"
   ]
  },
  {
   "cell_type": "code",
   "execution_count": 5,
   "metadata": {
    "colab": {
     "base_uri": "https://localhost:8080/",
     "height": 67
    },
    "id": "pFLnNjfYDv09",
    "outputId": "4e352803-8c10-454e-8882-700d0a4a942b"
   },
   "outputs": [],
   "source": [
    "W = np.random.randn(1, X_train.shape[1])\n",
    "b = np.zeros((1, 1))"
   ]
  },
  {
   "cell_type": "code",
   "execution_count": 6,
   "metadata": {},
   "outputs": [
    {
     "name": "stdout",
     "output_type": "stream",
     "text": [
      "[[1.76405235 0.40015721]]\n",
      "(1, 2)\n",
      "[[0.]]\n",
      "(1, 1)\n"
     ]
    }
   ],
   "source": [
    "print(W)\n",
    "print(W.shape)\n",
    "\n",
    "print(b)\n",
    "print(b.shape)"
   ]
  },
  {
   "cell_type": "code",
   "execution_count": 9,
   "metadata": {
    "colab": {
     "base_uri": "https://localhost:8080/",
     "height": 1000
    },
    "id": "r0V1T8-dEiH_",
    "outputId": "acf5a557-d29c-41d5-abf2-5c1fab815a30"
   },
   "outputs": [
    {
     "name": "stdout",
     "output_type": "stream",
     "text": [
      "Epoch: 0 | Loss: 0.03745790056944601\n",
      "Epoch: 20 | Loss: 0.03415787193065959\n",
      "Epoch: 40 | Loss: 0.03138802247441654\n",
      "Epoch: 60 | Loss: 0.0290168207127931\n",
      "Epoch: 80 | Loss: 0.02695728670243796\n",
      "Epoch: 100 | Loss: 0.025148700491370343\n",
      "Epoch: 120 | Loss: 0.0235466878456663\n",
      "Epoch: 140 | Loss: 0.022117602096189466\n",
      "Epoch: 160 | Loss: 0.02083518060510489\n",
      "Epoch: 180 | Loss: 0.019678454718993432\n",
      "Epoch: 200 | Loss: 0.018630381472952692\n",
      "Epoch: 220 | Loss: 0.01767690987595275\n",
      "Epoch: 240 | Loss: 0.01680632042954812\n",
      "Epoch: 260 | Loss: 0.01600874347516022\n",
      "Epoch: 280 | Loss: 0.015275798888503153\n",
      "Epoch: 300 | Loss: 0.014600320771153108\n",
      "Epoch: 320 | Loss: 0.013976143333471358\n",
      "Epoch: 340 | Loss: 0.013397931877006592\n",
      "Epoch: 360 | Loss: 0.012861047688354655\n",
      "Epoch: 380 | Loss: 0.012361438871117921\n",
      "Epoch: 400 | Loss: 0.01189555130964615\n",
      "Epoch: 420 | Loss: 0.01146025545621748\n",
      "Epoch: 440 | Loss: 0.011052785692241936\n",
      "Epoch: 460 | Loss: 0.010670689777626242\n",
      "Epoch: 480 | Loss: 0.010311786462757697\n"
     ]
    }
   ],
   "source": [
    "epochs = 500\n",
    "learning_rate = 1\n",
    "losses = []\n",
    "\n",
    "for ep in range(epochs):\n",
    "  \n",
    "    # ------------\n",
    "    # Forward pass\n",
    "    # ------------\n",
    "\n",
    "    z = np.dot(W, X_train.T) + b\n",
    "    a = sigmoid(z)\n",
    "    # print(z)\n",
    "    # print(a)\n",
    "\n",
    "    # --------------------------\n",
    "    # Compute Loss and gradients\n",
    "    # --------------------------\n",
    "\n",
    "    loss, da = compute_mse_cost(y_train, a)\n",
    "    # print(loss)\n",
    "    # print(da)\n",
    "    dz = da * a * (1-a) # Differentiate the sigmoid function and you will understand this step \n",
    "    # print(dz)\n",
    "    dW = np.dot(dz, X_train)\n",
    "    db = np.sum(dz, axis=1, keepdims=True)\n",
    "\n",
    "    # ----------------\n",
    "    # Gradient Descent\n",
    "    # ----------------\n",
    "\n",
    "    W = W - learning_rate * dW\n",
    "    b = b - learning_rate * db\n",
    "    # print(W)\n",
    "    # print(b)\n",
    "\n",
    "    losses.append(loss)\n",
    "    \n",
    "    if ep % 20 == 0:\n",
    "        print(f\"Epoch: {ep} | Loss: {loss}\")"
   ]
  },
  {
   "cell_type": "code",
   "execution_count": 10,
   "metadata": {
    "colab": {
     "base_uri": "https://localhost:8080/",
     "height": 282
    },
    "id": "QckMUiEVfxDh",
    "outputId": "e88beb0d-5487-47e8-da93-87e972d0c452"
   },
   "outputs": [
    {
     "data": {
      "text/plain": [
       "[<matplotlib.lines.Line2D at 0x7fc35de4d208>]"
      ]
     },
     "execution_count": 10,
     "metadata": {},
     "output_type": "execute_result"
    },
    {
     "data": {
      "image/png": "[encoded data removed]",
      "text/plain": [
       "<Figure size 432x288 with 1 Axes>"
      ]
     },
     "metadata": {
      "needs_background": "light"
     },
     "output_type": "display_data"
    }
   ],
   "source": [
    "plt.plot(losses)"
   ]
  },
  {
   "cell_type": "code",
   "execution_count": 11,
   "metadata": {
    "id": "j82-i-6udlGB"
   },
   "outputs": [],
   "source": [
    "z_pred = np.dot(W, X_train.T) + b\n",
    "a_pred = sigmoid(z_pred).squeeze()\n",
    "y_pred = np.array([1 if i>0.5 else 0 for i in a_pred])"
   ]
  },
  {
   "cell_type": "code",
   "execution_count": 12,
   "metadata": {
    "colab": {
     "base_uri": "https://localhost:8080/",
     "height": 50
    },
    "id": "jSU1z-YrfWfe",
    "outputId": "d0b182c9-ec07-4776-c504-7c8b7aa78cc5"
   },
   "outputs": [
    {
     "name": "stdout",
     "output_type": "stream",
     "text": [
      "[0 0 0 1]\n",
      "[0 0 0 1]\n"
     ]
    }
   ],
   "source": [
    "print(y_pred)\n",
    "print(y_train)"
   ]
  },
  {
   "cell_type": "markdown",
   "metadata": {
    "id": "Dnj5kExqiGAc"
   },
   "source": [
    "**Home Exercise**\n",
    "\n",
    "**Q1** Write a code for 3-bit AND and OR dataset. Use 80% dataset as train-set and rest 20% as test-set.\n",
    "\n",
    "**Q2** Train a neural network for 2-bit XOR data. For those who don't know XOR this is the data \n",
    "\n",
    "| $x_1$ | $x_2$ | $y$ |\n",
    "|----|----|---|\n",
    "| 0  | 0  | 0 |\n",
    "| 0  | 1  | 1 |\n",
    "| 1  | 0  | 1 |\n",
    "| 1  | 1  | 0 |\n",
    "\n",
    "It is not straight forward task as the AND one."
   ]
  },
  {
   "cell_type": "code",
   "execution_count": null,
   "metadata": {},
   "outputs": [],
   "source": []
  }
 ],
 "metadata": {
  "colab": {
   "name": "Neural_Network_Tutorial.ipynb",
   "provenance": []
  },
  "kernelspec": {
   "display_name": "Python 3",
   "language": "python",
   "name": "python3"
  },
  "language_info": {
   "codemirror_mode": {
    "name": "ipython",
    "version": 3
   },
   "file_extension": ".py",
   "mimetype": "text/x-python",
   "name": "python",
   "nbconvert_exporter": "python",
   "pygments_lexer": "ipython3",
   "version": "3.6.9"
  }
 },
 "nbformat": 4,
 "nbformat_minor": 1
}
